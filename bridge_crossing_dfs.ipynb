{
 "cells": [
  {
   "cell_type": "code",
   "execution_count": 2,
   "id": "92ba2c51-68c6-4a74-aa9c-af71ef38bad0",
   "metadata": {},
   "outputs": [],
   "source": [
    "class BridgeCrossingDFS:\n",
    "    def __init__(self):\n",
    "        self.times = {'Amogh': 5, 'Ameya': 10, 'Grandmother': 20, 'Grandfather': 25}\n",
    "        self.people = set(self.times.keys())\n",
    "\n",
    "    def initial(self):\n",
    "        return (frozenset(self.people), frozenset(), 'left', 0)\n",
    "\n",
    "    def is_goal(self, state):\n",
    "        left, right, umbrella, time = state\n",
    "        return left == frozenset() and time <= 60\n",
    "\n",
    "    def nextmove(self, state):\n",
    "        left, right, umbrella, time = state\n",
    "        moves = []\n",
    "        if umbrella == 'left':\n",
    "            for p1 in left:\n",
    "                for p2 in left:\n",
    "                    if p1 <= p2:\n",
    "                        new_left = left - {p1, p2}\n",
    "                        new_right = right | {p1, p2}\n",
    "                        new_time = time + max(self.times[p1], self.times[p2])\n",
    "                        if new_time <= 60:\n",
    "                            moves.append((new_left, new_right, 'right', new_time))\n",
    "        else:\n",
    "            for p in right:\n",
    "                new_left = left | {p}\n",
    "                new_right = right - {p}\n",
    "                new_time = time + self.times[p]\n",
    "                if new_time <= 60:\n",
    "                    moves.append((new_left, new_right, 'left', new_time))\n",
    "        return moves\n",
    "\n",
    "def dfs(problem):\n",
    "    stack = [(problem.initial(), [])]\n",
    "    visited = set()\n",
    "    while stack:\n",
    "        state, path = stack.pop()\n",
    "        if problem.is_goal(state):\n",
    "            return path + [state]\n",
    "        if state in visited:\n",
    "            continue\n",
    "        visited.add(state)\n",
    "        for next_state in problem.nextmove(state):\n",
    "            stack.append((next_state, path + [state]))\n",
    "    return None\n"
   ]
  },
  {
   "cell_type": "code",
   "execution_count": 3,
   "id": "9d160ef0-44e3-45e2-b156-e09f6369ecc3",
   "metadata": {},
   "outputs": [
    {
     "name": "stdout",
     "output_type": "stream",
     "text": [
      "DFS Solution:\n",
      "\n",
      "Step 1: Left={'Ameya', 'Grandfather', 'Grandmother', 'Amogh'}, Right=set(), Umbrella='left', Time=0\n",
      "Step 2: Left={'Grandfather', 'Grandmother'}, Right={'Ameya', 'Amogh'}, Umbrella='right', Time=10\n",
      "Step 3: Left={'Grandfather', 'Grandmother', 'Amogh'}, Right={'Ameya'}, Umbrella='left', Time=15\n",
      "Step 4: Left={'Amogh'}, Right={'Ameya', 'Grandfather', 'Grandmother'}, Umbrella='right', Time=40\n",
      "Step 5: Left={'Ameya', 'Amogh'}, Right={'Grandfather', 'Grandmother'}, Umbrella='left', Time=50\n",
      "Step 6: Left=set(), Right={'Ameya', 'Grandfather', 'Grandmother', 'Amogh'}, Umbrella='right', Time=60\n"
     ]
    }
   ],
   "source": [
    "dfs_problem = BridgeCrossingDFS()\n",
    "result_dfs = dfs(dfs_problem)\n",
    "\n",
    "print(\"DFS Solution:\\n\")\n",
    "if result_dfs:\n",
    "    for idx, state in enumerate(result_dfs):\n",
    "        left, right, side, time = state\n",
    "        print(f\"Step {idx+1}: Left={set(left)}, Right={set(right)}, Umbrella='{side}', Time={time}\")\n",
    "else:\n",
    "    print(\"No solution found using DFS.\")\n"
   ]
  },
  {
   "cell_type": "code",
   "execution_count": null,
   "id": "d756838e-9e64-4ceb-8b9f-d74095523266",
   "metadata": {},
   "outputs": [],
   "source": []
  }
 ],
 "metadata": {
  "kernelspec": {
   "display_name": "Python 3 (ipykernel)",
   "language": "python",
   "name": "python3"
  },
  "language_info": {
   "codemirror_mode": {
    "name": "ipython",
    "version": 3
   },
   "file_extension": ".py",
   "mimetype": "text/x-python",
   "name": "python",
   "nbconvert_exporter": "python",
   "pygments_lexer": "ipython3",
   "version": "3.10.12"
  }
 },
 "nbformat": 4,
 "nbformat_minor": 5
}
